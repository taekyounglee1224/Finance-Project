{
  "nbformat": 4,
  "nbformat_minor": 0,
  "metadata": {
    "colab": {
      "provenance": []
    },
    "kernelspec": {
      "name": "python3",
      "display_name": "Python 3"
    },
    "language_info": {
      "name": "python"
    }
  },
  "cells": [
    {
      "cell_type": "markdown",
      "source": [
        "### KODEX 200 일별 시세 URL"
      ],
      "metadata": {
        "id": "Q7FQE6PDIEoi"
      }
    },
    {
      "cell_type": "code",
      "source": [
        "# import requests\n",
        "\n",
        "# headers = {'user-agent': 'Mozilla/5.0 (Windows NT 10.0; Win64; x64) AppleWebKit/537.36 (KHTML, like Gecko) Chrome/122.0.0.0 Safari/537.36'}\n",
        "\n",
        "# url = 'https://finance.naver.com/item/sise_day.naver?code=069500' #069500 : KODEX 200 종목 코드\n",
        "# response = requests.get(url, headers = headers)"
      ],
      "metadata": {
        "id": "0oppzc86IKfI"
      },
      "execution_count": 26,
      "outputs": []
    },
    {
      "cell_type": "code",
      "source": [
        "# response.text"
      ],
      "metadata": {
        "id": "5gZOxnn0IjNl"
      },
      "execution_count": 27,
      "outputs": []
    },
    {
      "cell_type": "markdown",
      "source": [
        "### Beautiful Soup을 Table 태그 찾기"
      ],
      "metadata": {
        "id": "4jTaPPruJ_fW"
      }
    },
    {
      "cell_type": "code",
      "source": [
        "# from bs4 import BeautifulSoup as bs\n",
        "\n",
        "# sise_html = bs(response.text)\n",
        "# sise_html"
      ],
      "metadata": {
        "id": "0s7Z65N4Iw-P"
      },
      "execution_count": 28,
      "outputs": []
    },
    {
      "cell_type": "code",
      "source": [
        "# sise_table = sise_html.select('table')\n",
        "# sise_table"
      ],
      "metadata": {
        "id": "IY4HJav1K29m"
      },
      "execution_count": 29,
      "outputs": []
    },
    {
      "cell_type": "markdown",
      "source": [
        "### Pandas로 데이터프레임 변환"
      ],
      "metadata": {
        "id": "JidBy549Ywio"
      }
    },
    {
      "cell_type": "code",
      "source": [
        "# import pandas as pd\n",
        "\n",
        "# table = pd.read_html(str(sise_table))\n",
        "# table"
      ],
      "metadata": {
        "id": "gqilxceJLfpX"
      },
      "execution_count": 30,
      "outputs": []
    },
    {
      "cell_type": "markdown",
      "source": [
        "### 결측치 제거"
      ],
      "metadata": {
        "id": "m1rw7UJ8Y2VG"
      }
    },
    {
      "cell_type": "code",
      "source": [
        "# temp = table[0].dropna()\n",
        "# temp"
      ],
      "metadata": {
        "id": "k77QAQnqOPe9"
      },
      "execution_count": 31,
      "outputs": []
    },
    {
      "cell_type": "markdown",
      "source": [
        "### 페이지별 일별 시세 크롤링 함수 만들기"
      ],
      "metadata": {
        "id": "m9mabqosRRaW"
      }
    },
    {
      "cell_type": "code",
      "source": [
        "item_code = '069500'\n",
        "item_name = 'KODEX200'\n",
        "page_no = 1\n",
        "\n",
        "def get_day_list(item_code, page_no):\n",
        "\n",
        "  url = f'https://finance.naver.com/item/sise_day.naver?code={item_code}&page={page_no}'\n",
        "\n",
        "  headers = {'user-agent': 'Mozilla/5.0 (Windows NT 10.0; Win64; x64) AppleWebKit/537.36 (KHTML, like Gecko) Chrome/122.0.0.0 Safari/537.36'}\n",
        "\n",
        "  response = requests.get(url, headers = headers)\n",
        "  html = bs(response.text)\n",
        "  table = html.select('table')\n",
        "  temp = pd.read_html(str(table))\n",
        "  temp = temp[0].dropna()\n",
        "  return temp"
      ],
      "metadata": {
        "id": "GKJczsfjRKBe"
      },
      "execution_count": 32,
      "outputs": []
    },
    {
      "cell_type": "code",
      "source": [
        "get_day_list(item_code, 1)"
      ],
      "metadata": {
        "colab": {
          "base_uri": "https://localhost:8080/",
          "height": 363
        },
        "id": "Ydt8UMewVe11",
        "outputId": "737e8a7c-7e46-4ee5-f656-ec4089486bc3"
      },
      "execution_count": 33,
      "outputs": [
        {
          "output_type": "execute_result",
          "data": {
            "text/plain": [
              "            날짜       종가    전일비       시가       고가       저가        거래량\n",
              "1   2024.03.21  37715.0  995.0  37315.0  37785.0  37295.0  5631106.0\n",
              "2   2024.03.20  36720.0  635.0  36360.0  36740.0  36360.0  4822500.0\n",
              "3   2024.03.19  36085.0  435.0  36235.0  36235.0  35885.0  7383566.0\n",
              "4   2024.03.18  36520.0  230.0  36405.0  36530.0  36210.0  5967833.0\n",
              "5   2024.03.15  36290.0  695.0  36685.0  36770.0  36290.0  6009649.0\n",
              "9   2024.03.14  36985.0  330.0  36695.0  37020.0  36695.0  9555540.0\n",
              "10  2024.03.13  36655.0  170.0  36625.0  36805.0  36490.0  8736002.0\n",
              "11  2024.03.12  36485.0  310.0  36290.0  36565.0  36110.0  8134832.0\n",
              "12  2024.03.11  36175.0  305.0  36270.0  36410.0  36130.0  6073156.0\n",
              "13  2024.03.08  36480.0  525.0  36385.0  36615.0  36340.0  7394314.0"
            ],
            "text/html": [
              "\n",
              "  <div id=\"df-b9fb74ee-c68b-4cd8-9775-827c651015ad\" class=\"colab-df-container\">\n",
              "    <div>\n",
              "<style scoped>\n",
              "    .dataframe tbody tr th:only-of-type {\n",
              "        vertical-align: middle;\n",
              "    }\n",
              "\n",
              "    .dataframe tbody tr th {\n",
              "        vertical-align: top;\n",
              "    }\n",
              "\n",
              "    .dataframe thead th {\n",
              "        text-align: right;\n",
              "    }\n",
              "</style>\n",
              "<table border=\"1\" class=\"dataframe\">\n",
              "  <thead>\n",
              "    <tr style=\"text-align: right;\">\n",
              "      <th></th>\n",
              "      <th>날짜</th>\n",
              "      <th>종가</th>\n",
              "      <th>전일비</th>\n",
              "      <th>시가</th>\n",
              "      <th>고가</th>\n",
              "      <th>저가</th>\n",
              "      <th>거래량</th>\n",
              "    </tr>\n",
              "  </thead>\n",
              "  <tbody>\n",
              "    <tr>\n",
              "      <th>1</th>\n",
              "      <td>2024.03.21</td>\n",
              "      <td>37715.0</td>\n",
              "      <td>995.0</td>\n",
              "      <td>37315.0</td>\n",
              "      <td>37785.0</td>\n",
              "      <td>37295.0</td>\n",
              "      <td>5631106.0</td>\n",
              "    </tr>\n",
              "    <tr>\n",
              "      <th>2</th>\n",
              "      <td>2024.03.20</td>\n",
              "      <td>36720.0</td>\n",
              "      <td>635.0</td>\n",
              "      <td>36360.0</td>\n",
              "      <td>36740.0</td>\n",
              "      <td>36360.0</td>\n",
              "      <td>4822500.0</td>\n",
              "    </tr>\n",
              "    <tr>\n",
              "      <th>3</th>\n",
              "      <td>2024.03.19</td>\n",
              "      <td>36085.0</td>\n",
              "      <td>435.0</td>\n",
              "      <td>36235.0</td>\n",
              "      <td>36235.0</td>\n",
              "      <td>35885.0</td>\n",
              "      <td>7383566.0</td>\n",
              "    </tr>\n",
              "    <tr>\n",
              "      <th>4</th>\n",
              "      <td>2024.03.18</td>\n",
              "      <td>36520.0</td>\n",
              "      <td>230.0</td>\n",
              "      <td>36405.0</td>\n",
              "      <td>36530.0</td>\n",
              "      <td>36210.0</td>\n",
              "      <td>5967833.0</td>\n",
              "    </tr>\n",
              "    <tr>\n",
              "      <th>5</th>\n",
              "      <td>2024.03.15</td>\n",
              "      <td>36290.0</td>\n",
              "      <td>695.0</td>\n",
              "      <td>36685.0</td>\n",
              "      <td>36770.0</td>\n",
              "      <td>36290.0</td>\n",
              "      <td>6009649.0</td>\n",
              "    </tr>\n",
              "    <tr>\n",
              "      <th>9</th>\n",
              "      <td>2024.03.14</td>\n",
              "      <td>36985.0</td>\n",
              "      <td>330.0</td>\n",
              "      <td>36695.0</td>\n",
              "      <td>37020.0</td>\n",
              "      <td>36695.0</td>\n",
              "      <td>9555540.0</td>\n",
              "    </tr>\n",
              "    <tr>\n",
              "      <th>10</th>\n",
              "      <td>2024.03.13</td>\n",
              "      <td>36655.0</td>\n",
              "      <td>170.0</td>\n",
              "      <td>36625.0</td>\n",
              "      <td>36805.0</td>\n",
              "      <td>36490.0</td>\n",
              "      <td>8736002.0</td>\n",
              "    </tr>\n",
              "    <tr>\n",
              "      <th>11</th>\n",
              "      <td>2024.03.12</td>\n",
              "      <td>36485.0</td>\n",
              "      <td>310.0</td>\n",
              "      <td>36290.0</td>\n",
              "      <td>36565.0</td>\n",
              "      <td>36110.0</td>\n",
              "      <td>8134832.0</td>\n",
              "    </tr>\n",
              "    <tr>\n",
              "      <th>12</th>\n",
              "      <td>2024.03.11</td>\n",
              "      <td>36175.0</td>\n",
              "      <td>305.0</td>\n",
              "      <td>36270.0</td>\n",
              "      <td>36410.0</td>\n",
              "      <td>36130.0</td>\n",
              "      <td>6073156.0</td>\n",
              "    </tr>\n",
              "    <tr>\n",
              "      <th>13</th>\n",
              "      <td>2024.03.08</td>\n",
              "      <td>36480.0</td>\n",
              "      <td>525.0</td>\n",
              "      <td>36385.0</td>\n",
              "      <td>36615.0</td>\n",
              "      <td>36340.0</td>\n",
              "      <td>7394314.0</td>\n",
              "    </tr>\n",
              "  </tbody>\n",
              "</table>\n",
              "</div>\n",
              "    <div class=\"colab-df-buttons\">\n",
              "\n",
              "  <div class=\"colab-df-container\">\n",
              "    <button class=\"colab-df-convert\" onclick=\"convertToInteractive('df-b9fb74ee-c68b-4cd8-9775-827c651015ad')\"\n",
              "            title=\"Convert this dataframe to an interactive table.\"\n",
              "            style=\"display:none;\">\n",
              "\n",
              "  <svg xmlns=\"http://www.w3.org/2000/svg\" height=\"24px\" viewBox=\"0 -960 960 960\">\n",
              "    <path d=\"M120-120v-720h720v720H120Zm60-500h600v-160H180v160Zm220 220h160v-160H400v160Zm0 220h160v-160H400v160ZM180-400h160v-160H180v160Zm440 0h160v-160H620v160ZM180-180h160v-160H180v160Zm440 0h160v-160H620v160Z\"/>\n",
              "  </svg>\n",
              "    </button>\n",
              "\n",
              "  <style>\n",
              "    .colab-df-container {\n",
              "      display:flex;\n",
              "      gap: 12px;\n",
              "    }\n",
              "\n",
              "    .colab-df-convert {\n",
              "      background-color: #E8F0FE;\n",
              "      border: none;\n",
              "      border-radius: 50%;\n",
              "      cursor: pointer;\n",
              "      display: none;\n",
              "      fill: #1967D2;\n",
              "      height: 32px;\n",
              "      padding: 0 0 0 0;\n",
              "      width: 32px;\n",
              "    }\n",
              "\n",
              "    .colab-df-convert:hover {\n",
              "      background-color: #E2EBFA;\n",
              "      box-shadow: 0px 1px 2px rgba(60, 64, 67, 0.3), 0px 1px 3px 1px rgba(60, 64, 67, 0.15);\n",
              "      fill: #174EA6;\n",
              "    }\n",
              "\n",
              "    .colab-df-buttons div {\n",
              "      margin-bottom: 4px;\n",
              "    }\n",
              "\n",
              "    [theme=dark] .colab-df-convert {\n",
              "      background-color: #3B4455;\n",
              "      fill: #D2E3FC;\n",
              "    }\n",
              "\n",
              "    [theme=dark] .colab-df-convert:hover {\n",
              "      background-color: #434B5C;\n",
              "      box-shadow: 0px 1px 3px 1px rgba(0, 0, 0, 0.15);\n",
              "      filter: drop-shadow(0px 1px 2px rgba(0, 0, 0, 0.3));\n",
              "      fill: #FFFFFF;\n",
              "    }\n",
              "  </style>\n",
              "\n",
              "    <script>\n",
              "      const buttonEl =\n",
              "        document.querySelector('#df-b9fb74ee-c68b-4cd8-9775-827c651015ad button.colab-df-convert');\n",
              "      buttonEl.style.display =\n",
              "        google.colab.kernel.accessAllowed ? 'block' : 'none';\n",
              "\n",
              "      async function convertToInteractive(key) {\n",
              "        const element = document.querySelector('#df-b9fb74ee-c68b-4cd8-9775-827c651015ad');\n",
              "        const dataTable =\n",
              "          await google.colab.kernel.invokeFunction('convertToInteractive',\n",
              "                                                    [key], {});\n",
              "        if (!dataTable) return;\n",
              "\n",
              "        const docLinkHtml = 'Like what you see? Visit the ' +\n",
              "          '<a target=\"_blank\" href=https://colab.research.google.com/notebooks/data_table.ipynb>data table notebook</a>'\n",
              "          + ' to learn more about interactive tables.';\n",
              "        element.innerHTML = '';\n",
              "        dataTable['output_type'] = 'display_data';\n",
              "        await google.colab.output.renderOutput(dataTable, element);\n",
              "        const docLink = document.createElement('div');\n",
              "        docLink.innerHTML = docLinkHtml;\n",
              "        element.appendChild(docLink);\n",
              "      }\n",
              "    </script>\n",
              "  </div>\n",
              "\n",
              "\n",
              "<div id=\"df-4a0fa577-8a26-4247-956c-ad77f1fc98be\">\n",
              "  <button class=\"colab-df-quickchart\" onclick=\"quickchart('df-4a0fa577-8a26-4247-956c-ad77f1fc98be')\"\n",
              "            title=\"Suggest charts\"\n",
              "            style=\"display:none;\">\n",
              "\n",
              "<svg xmlns=\"http://www.w3.org/2000/svg\" height=\"24px\"viewBox=\"0 0 24 24\"\n",
              "     width=\"24px\">\n",
              "    <g>\n",
              "        <path d=\"M19 3H5c-1.1 0-2 .9-2 2v14c0 1.1.9 2 2 2h14c1.1 0 2-.9 2-2V5c0-1.1-.9-2-2-2zM9 17H7v-7h2v7zm4 0h-2V7h2v10zm4 0h-2v-4h2v4z\"/>\n",
              "    </g>\n",
              "</svg>\n",
              "  </button>\n",
              "\n",
              "<style>\n",
              "  .colab-df-quickchart {\n",
              "      --bg-color: #E8F0FE;\n",
              "      --fill-color: #1967D2;\n",
              "      --hover-bg-color: #E2EBFA;\n",
              "      --hover-fill-color: #174EA6;\n",
              "      --disabled-fill-color: #AAA;\n",
              "      --disabled-bg-color: #DDD;\n",
              "  }\n",
              "\n",
              "  [theme=dark] .colab-df-quickchart {\n",
              "      --bg-color: #3B4455;\n",
              "      --fill-color: #D2E3FC;\n",
              "      --hover-bg-color: #434B5C;\n",
              "      --hover-fill-color: #FFFFFF;\n",
              "      --disabled-bg-color: #3B4455;\n",
              "      --disabled-fill-color: #666;\n",
              "  }\n",
              "\n",
              "  .colab-df-quickchart {\n",
              "    background-color: var(--bg-color);\n",
              "    border: none;\n",
              "    border-radius: 50%;\n",
              "    cursor: pointer;\n",
              "    display: none;\n",
              "    fill: var(--fill-color);\n",
              "    height: 32px;\n",
              "    padding: 0;\n",
              "    width: 32px;\n",
              "  }\n",
              "\n",
              "  .colab-df-quickchart:hover {\n",
              "    background-color: var(--hover-bg-color);\n",
              "    box-shadow: 0 1px 2px rgba(60, 64, 67, 0.3), 0 1px 3px 1px rgba(60, 64, 67, 0.15);\n",
              "    fill: var(--button-hover-fill-color);\n",
              "  }\n",
              "\n",
              "  .colab-df-quickchart-complete:disabled,\n",
              "  .colab-df-quickchart-complete:disabled:hover {\n",
              "    background-color: var(--disabled-bg-color);\n",
              "    fill: var(--disabled-fill-color);\n",
              "    box-shadow: none;\n",
              "  }\n",
              "\n",
              "  .colab-df-spinner {\n",
              "    border: 2px solid var(--fill-color);\n",
              "    border-color: transparent;\n",
              "    border-bottom-color: var(--fill-color);\n",
              "    animation:\n",
              "      spin 1s steps(1) infinite;\n",
              "  }\n",
              "\n",
              "  @keyframes spin {\n",
              "    0% {\n",
              "      border-color: transparent;\n",
              "      border-bottom-color: var(--fill-color);\n",
              "      border-left-color: var(--fill-color);\n",
              "    }\n",
              "    20% {\n",
              "      border-color: transparent;\n",
              "      border-left-color: var(--fill-color);\n",
              "      border-top-color: var(--fill-color);\n",
              "    }\n",
              "    30% {\n",
              "      border-color: transparent;\n",
              "      border-left-color: var(--fill-color);\n",
              "      border-top-color: var(--fill-color);\n",
              "      border-right-color: var(--fill-color);\n",
              "    }\n",
              "    40% {\n",
              "      border-color: transparent;\n",
              "      border-right-color: var(--fill-color);\n",
              "      border-top-color: var(--fill-color);\n",
              "    }\n",
              "    60% {\n",
              "      border-color: transparent;\n",
              "      border-right-color: var(--fill-color);\n",
              "    }\n",
              "    80% {\n",
              "      border-color: transparent;\n",
              "      border-right-color: var(--fill-color);\n",
              "      border-bottom-color: var(--fill-color);\n",
              "    }\n",
              "    90% {\n",
              "      border-color: transparent;\n",
              "      border-bottom-color: var(--fill-color);\n",
              "    }\n",
              "  }\n",
              "</style>\n",
              "\n",
              "  <script>\n",
              "    async function quickchart(key) {\n",
              "      const quickchartButtonEl =\n",
              "        document.querySelector('#' + key + ' button');\n",
              "      quickchartButtonEl.disabled = true;  // To prevent multiple clicks.\n",
              "      quickchartButtonEl.classList.add('colab-df-spinner');\n",
              "      try {\n",
              "        const charts = await google.colab.kernel.invokeFunction(\n",
              "            'suggestCharts', [key], {});\n",
              "      } catch (error) {\n",
              "        console.error('Error during call to suggestCharts:', error);\n",
              "      }\n",
              "      quickchartButtonEl.classList.remove('colab-df-spinner');\n",
              "      quickchartButtonEl.classList.add('colab-df-quickchart-complete');\n",
              "    }\n",
              "    (() => {\n",
              "      let quickchartButtonEl =\n",
              "        document.querySelector('#df-4a0fa577-8a26-4247-956c-ad77f1fc98be button');\n",
              "      quickchartButtonEl.style.display =\n",
              "        google.colab.kernel.accessAllowed ? 'block' : 'none';\n",
              "    })();\n",
              "  </script>\n",
              "</div>\n",
              "    </div>\n",
              "  </div>\n"
            ],
            "application/vnd.google.colaboratory.intrinsic+json": {
              "type": "dataframe",
              "repr_error": "0"
            }
          },
          "metadata": {},
          "execution_count": 33
        }
      ]
    },
    {
      "cell_type": "markdown",
      "source": [
        "### While 반복문으로 연속적으로 데이터 수집하기"
      ],
      "metadata": {
        "id": "etDkLHNRYlwM"
      }
    },
    {
      "cell_type": "code",
      "source": [
        "import time\n",
        "\n",
        "item_list = []\n",
        "page_no = 1\n",
        "\n",
        "while True:\n",
        "  print(page_no)\n",
        "  etf = get_day_list(item_code, page_no)\n",
        "  item_list.append(etf)\n",
        "\n",
        "  page_no += 1\n",
        "  time.sleep(0.1)\n",
        "\n",
        "  if page_no > 10:\n",
        "    break"
      ],
      "metadata": {
        "colab": {
          "base_uri": "https://localhost:8080/"
        },
        "id": "XssWix4lVmdW",
        "outputId": "184e8788-2e0b-44a8-9eb9-aea4eb79c8cc"
      },
      "execution_count": 34,
      "outputs": [
        {
          "output_type": "stream",
          "name": "stdout",
          "text": [
            "1\n",
            "2\n",
            "3\n",
            "4\n",
            "5\n",
            "6\n",
            "7\n",
            "8\n",
            "9\n",
            "10\n"
          ]
        }
      ]
    },
    {
      "cell_type": "code",
      "source": [
        "print(item_list)\n",
        "print()\n",
        "print('총 페이지 길이: ', len(item_list))"
      ],
      "metadata": {
        "colab": {
          "base_uri": "https://localhost:8080/"
        },
        "id": "KzUymyr7Ya_i",
        "outputId": "b804bfb7-e35b-486d-ff64-7997a758ad8d"
      },
      "execution_count": 35,
      "outputs": [
        {
          "output_type": "stream",
          "name": "stdout",
          "text": [
            "[            날짜       종가    전일비       시가       고가       저가        거래량\n",
            "1   2024.03.21  37715.0  995.0  37315.0  37785.0  37295.0  5631106.0\n",
            "2   2024.03.20  36720.0  635.0  36360.0  36740.0  36360.0  4822500.0\n",
            "3   2024.03.19  36085.0  435.0  36235.0  36235.0  35885.0  7383566.0\n",
            "4   2024.03.18  36520.0  230.0  36405.0  36530.0  36210.0  5967833.0\n",
            "5   2024.03.15  36290.0  695.0  36685.0  36770.0  36290.0  6009649.0\n",
            "9   2024.03.14  36985.0  330.0  36695.0  37020.0  36695.0  9555540.0\n",
            "10  2024.03.13  36655.0  170.0  36625.0  36805.0  36490.0  8736002.0\n",
            "11  2024.03.12  36485.0  310.0  36290.0  36565.0  36110.0  8134832.0\n",
            "12  2024.03.11  36175.0  305.0  36270.0  36410.0  36130.0  6073156.0\n",
            "13  2024.03.08  36480.0  525.0  36385.0  36615.0  36340.0  7394314.0,             날짜       종가    전일비       시가       고가       저가        거래량\n",
            "1   2024.03.07  35955.0   25.0  36070.0  36200.0  35785.0  4849264.0\n",
            "2   2024.03.06  35930.0  130.0  35880.0  36015.0  35765.0  5517887.0\n",
            "3   2024.03.05  36060.0  290.0  36235.0  36545.0  36060.0  5784831.0\n",
            "4   2024.03.04  36350.0  515.0  36210.0  36540.0  36150.0  6037381.0\n",
            "5   2024.02.29  35835.0   95.0  35800.0  35950.0  35610.0  6145314.0\n",
            "9   2024.02.28  35930.0  435.0  35585.0  36040.0  35495.0  5641427.0\n",
            "10  2024.02.27  35495.0  305.0  35815.0  35900.0  35455.0  5199598.0\n",
            "11  2024.02.26  35800.0  290.0  35875.0  35960.0  35510.0  5130714.0\n",
            "12  2024.02.23  36090.0  110.0  36300.0  36510.0  36040.0  6739000.0\n",
            "13  2024.02.22  35980.0  185.0  36130.0  36165.0  35845.0  6463600.0,             날짜       종가    전일비       시가       고가       저가        거래량\n",
            "1   2024.02.21  35795.0   80.0  35855.0  36110.0  35675.0  6976327.0\n",
            "2   2024.02.20  35875.0  425.0  36200.0  36220.0  35670.0  6441149.0\n",
            "3   2024.02.19  36300.0  560.0  35845.0  36375.0  35840.0  6673013.0\n",
            "4   2024.02.16  35740.0  355.0  35670.0  35775.0  35480.0  7035777.0\n",
            "5   2024.02.15  35385.0   50.0  35805.0  35825.0  35360.0  6137814.0\n",
            "9   2024.02.14  35435.0  490.0  35370.0  35570.0  35250.0  7163970.0\n",
            "10  2024.02.13  35925.0  435.0  35915.0  36130.0  35850.0  6108254.0\n",
            "11  2024.02.08  35490.0   40.0  35595.0  35755.0  35430.0  6259742.0\n",
            "12  2024.02.07  35450.0  495.0  35130.0  35730.0  35120.0  7548365.0\n",
            "13  2024.02.06  34955.0  135.0  34945.0  35250.0  34750.0  9454374.0,             날짜       종가     전일비       시가       고가       저가         거래량\n",
            "1   2024.02.05  35090.0   430.0  35425.0  35425.0  34650.0  11378063.0\n",
            "2   2024.02.02  35520.0  1110.0  34690.0  35575.0  34665.0  11476191.0\n",
            "3   2024.02.01  34410.0   580.0  33790.0  34465.0  33775.0   7021653.0\n",
            "4   2024.01.31  33830.0   165.0  33740.0  33920.0  33735.0   8485416.0\n",
            "5   2024.01.30  33995.0    60.0  34230.0  34365.0  33915.0   7939707.0\n",
            "9   2024.01.29  34150.0   400.0  33865.0  34370.0  33780.0   4271662.0\n",
            "10  2024.01.26  33750.0    60.0  33530.0  34090.0  33415.0   4530850.0\n",
            "11  2024.01.25  33690.0    40.0  33670.0  33740.0  33480.0   7350090.0\n",
            "12  2024.01.24  33650.0   130.0  33805.0  33805.0  33370.0   5453870.0\n",
            "13  2024.01.23  33780.0   175.0  33760.0  33845.0  33560.0   4506031.0,             날짜       종가    전일비       시가       고가       저가         거래량\n",
            "1   2024.01.22  33605.0   35.0  33925.0  33945.0  33605.0   6761069.0\n",
            "2   2024.01.19  33570.0  495.0  33420.0  33630.0  33380.0   8205234.0\n",
            "3   2024.01.18  33075.0  155.0  33015.0  33185.0  32840.0  12973930.0\n",
            "4   2024.01.17  32920.0  825.0  33885.0  33915.0  32905.0  13766686.0\n",
            "5   2024.01.16  33745.0  470.0  34010.0  34155.0  33705.0   5992875.0\n",
            "9   2024.01.15  34215.0  145.0  34165.0  34365.0  34085.0   6318099.0\n",
            "10  2024.01.12  34070.0  330.0  34280.0  34405.0  34005.0   8090307.0\n",
            "11  2024.01.11  34400.0   55.0  34410.0  34610.0  34290.0   5403988.0\n",
            "12  2024.01.10  34345.0  380.0  34725.0  34795.0  34320.0   4007127.0\n",
            "13  2024.01.09  34725.0  130.0  35310.0  35365.0  34630.0   7512393.0,             날짜       종가     전일비       시가       고가       저가         거래량\n",
            "1   2024.01.08  34855.0   115.0  35155.0  35245.0  34815.0   5362721.0\n",
            "2   2024.01.05  34970.0   100.0  35055.0  35170.0  34910.0   6663218.0\n",
            "3   2024.01.04  35070.0   310.0  35110.0  35350.0  34975.0   8879926.0\n",
            "4   2024.01.03  35380.0  1010.0  35975.0  35975.0  35380.0   8099979.0\n",
            "5   2024.01.02  36390.0   220.0  35985.0  36530.0  35925.0   7419568.0\n",
            "9   2023.12.28  36170.0   585.0  35600.0  36170.0  35540.0  10582829.0\n",
            "10  2023.12.27  35585.0   390.0  35260.0  35585.0  35165.0  10959810.0\n",
            "11  2023.12.26  35195.0   145.0  35225.0  35250.0  35025.0   2667076.0\n",
            "12  2023.12.22  35050.0   110.0  35265.0  35335.0  35050.0   3155432.0\n",
            "13  2023.12.21  34940.0   230.0  34910.0  35060.0  34775.0   6310580.0,             날짜       종가    전일비       시가       고가       저가         거래량\n",
            "1   2023.12.20  35170.0  665.0  34765.0  35170.0  34750.0   9403237.0\n",
            "2   2023.12.19  34505.0   30.0  34385.0  34525.0  34280.0   5012552.0\n",
            "3   2023.12.18  34475.0  110.0  34455.0  34515.0  34280.0   4133230.0\n",
            "4   2023.12.15  34365.0  195.0  34280.0  34680.0  34280.0   6261323.0\n",
            "5   2023.12.14  34170.0  410.0  34220.0  34375.0  34055.0   8792731.0\n",
            "9   2023.12.13  33760.0  330.0  34075.0  34075.0  33745.0   3987975.0\n",
            "10  2023.12.12  34090.0  140.0  34035.0  34195.0  34025.0  11151255.0\n",
            "11  2023.12.11  33950.0  115.0  33905.0  33950.0  33690.0   7031812.0\n",
            "12  2023.12.08  33835.0  485.0  33630.0  33855.0  33615.0   8598566.0\n",
            "13  2023.12.07  33350.0  130.0  33375.0  33505.0  33250.0   9681266.0,             날짜       종가    전일비       시가       고가       저가        거래량\n",
            "1   2023.12.06  33480.0  110.0  33530.0  33675.0  33480.0  7820757.0\n",
            "2   2023.12.05  33370.0  370.0  33585.0  33610.0  33370.0  4349890.0\n",
            "3   2023.12.04  33740.0  170.0  33810.0  33890.0  33680.0  6735167.0\n",
            "4   2023.12.01  33570.0  385.0  33780.0  33780.0  33550.0  4988163.0\n",
            "5   2023.11.30  33955.0  195.0  33685.0  33955.0  33595.0  6834917.0\n",
            "9   2023.11.29  33760.0  110.0  33815.0  33815.0  33530.0  3312281.0\n",
            "10  2023.11.28  33870.0  385.0  33600.0  33870.0  33570.0  4270900.0\n",
            "11  2023.11.27  33485.0   40.0  33535.0  33695.0  33370.0  4318291.0\n",
            "12  2023.11.24  33525.0  265.0  33790.0  33855.0  33515.0  4913581.0\n",
            "13  2023.11.23  33790.0    5.0  33800.0  33895.0  33650.0  4815864.0,             날짜       종가    전일비       시가       고가       저가        거래량\n",
            "1   2023.11.22  33785.0   60.0  33490.0  33850.0  33430.0  5610303.0\n",
            "2   2023.11.21  33725.0  160.0  33730.0  33875.0  33670.0  7262668.0\n",
            "3   2023.11.20  33565.0  265.0  33250.0  33680.0  33220.0  7426441.0\n",
            "4   2023.11.17  33300.0  170.0  33445.0  33460.0  33210.0  6010766.0\n",
            "5   2023.11.16  33470.0   25.0  33470.0  33575.0  33315.0  5466819.0\n",
            "9   2023.11.15  33495.0  710.0  33470.0  33520.0  33220.0  9679173.0\n",
            "10  2023.11.14  32785.0  335.0  32725.0  32880.0  32695.0  4710485.0\n",
            "11  2023.11.13  32450.0   25.0  32795.0  32815.0  32345.0  6351729.0\n",
            "12  2023.11.10  32475.0  185.0  32335.0  32495.0  32215.0  5273275.0\n",
            "13  2023.11.09  32660.0  155.0  32505.0  32780.0  32445.0  4401718.0,             날짜       종가     전일비       시가       고가       저가         거래량\n",
            "1   2023.11.08  32505.0   305.0  33050.0  33110.0  32420.0   4718349.0\n",
            "2   2023.11.07  32810.0   605.0  33155.0  33215.0  32490.0   8868833.0\n",
            "3   2023.11.06  33415.0  1495.0  32445.0  33415.0  32335.0  10194152.0\n",
            "4   2023.11.03  31920.0   320.0  31900.0  31985.0  31765.0   4490811.0\n",
            "5   2023.11.02  31600.0   515.0  31600.0  31750.0  31520.0   6131947.0\n",
            "9   2023.11.01  31085.0   425.0  30855.0  31150.0  30840.0   4694504.0\n",
            "10  2023.10.31  30660.0   380.0  31205.0  31270.0  30625.0   5657280.0\n",
            "11  2023.10.30  31040.0    85.0  30810.0  31120.0  30800.0   3535956.0\n",
            "12  2023.10.27  31055.0    30.0  31165.0  31230.0  30940.0   4329063.0\n",
            "13  2023.10.26  31025.0   815.0  31355.0  31420.0  30995.0   4681591.0]\n",
            "\n",
            "총 페이지 길이:  10\n"
          ]
        }
      ]
    },
    {
      "cell_type": "markdown",
      "source": [
        "### 하나의 데이터프레임으로 합치기"
      ],
      "metadata": {
        "id": "gvZbwWyZaCd3"
      }
    },
    {
      "cell_type": "code",
      "source": [
        "df = pd.concat(item_list, ignore_index = True)"
      ],
      "metadata": {
        "id": "zDiqLdSJY4pp"
      },
      "execution_count": 36,
      "outputs": []
    },
    {
      "cell_type": "code",
      "source": [
        "df.to_csv(f'{item_name}.csv', index = False)"
      ],
      "metadata": {
        "id": "or7GAWc9ZBqr"
      },
      "execution_count": 37,
      "outputs": []
    }
  ]
}